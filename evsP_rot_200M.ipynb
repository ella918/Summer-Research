{
 "cells": [
  {
   "cell_type": "code",
   "execution_count": 71,
   "id": "43df8a94-b0ee-4ae1-9ece-c0e6991a0d0a",
   "metadata": {},
   "outputs": [],
   "source": [
    "#importing\n",
    "from astropy.table import Table, join, unique, QTable, vstack\n",
    "import numpy as np\n",
    "import matplotlib.pyplot as plt\n",
    "import matplotlib.patheffects as path_effects\n",
    "import matplotlib.colors as colors\n",
    "from matplotlib.ticker import MultipleLocator, FixedLocator, FormatStrFormatter\n",
    "%matplotlib inline \n"
   ]
  },
  {
   "cell_type": "code",
   "execution_count": 72,
   "id": "e96d83d2-fd34-43af-aa6d-3faa195d56de",
   "metadata": {},
   "outputs": [],
   "source": [
    "unimodal_table = Table.read('/users/EllaMathews/Summer-Research/data_for_unimodal_plots_200M.csv')"
   ]
  },
  {
   "cell_type": "code",
   "execution_count": 73,
   "id": "dfe37ef0-2af5-4fdc-a7e5-853f61f7892c",
   "metadata": {},
   "outputs": [
    {
     "data": {
      "text/plain": [
       "<Table length=35>\n",
       "  name    dtype \n",
       "-------- -------\n",
       "      id   int64\n",
       "    MCMC   int64\n",
       "P_median float64\n",
       " P_lower float64\n",
       " P_upper float64\n",
       "e_median float64\n",
       " e_lower float64\n",
       " e_upper float64"
      ]
     },
     "execution_count": 73,
     "metadata": {},
     "output_type": "execute_result"
    }
   ],
   "source": [
    "unimodal_table.info"
   ]
  },
  {
   "cell_type": "code",
   "execution_count": 74,
   "id": "29256b69-c8a9-42e7-b241-c97a00a9ce94",
   "metadata": {},
   "outputs": [],
   "source": [
    "rot_6811 = Table.read('/users/Ellamathews/Summer-Research/RotationPeriodRV_6811.csv')\n",
    "rot_6866 = Table.read('/users/EllaMathews/Summer-Research/RotationPeriodRV_6866.csv')"
   ]
  },
  {
   "cell_type": "code",
   "execution_count": 75,
   "id": "2ec45225-e857-4877-b7c1-4ac597030dbb",
   "metadata": {},
   "outputs": [],
   "source": [
    "rot = vstack([rot_6866, rot_6811])"
   ]
  },
  {
   "cell_type": "code",
   "execution_count": 76,
   "id": "efebeca9-bb39-40c0-ba0c-de11fe198c42",
   "metadata": {},
   "outputs": [
    {
     "data": {
      "text/plain": [
       "<Table length=434>\n",
       "  name   dtype     class     n_bad\n",
       "------- ------- ------------ -----\n",
       "   Gaia   int64       Column     0\n",
       "    Per float64 MaskedColumn    44\n",
       "  BP-RP float64       Column     0\n",
       "   Gmag float64       Column     0\n",
       "e_BP-RP float64       Column     0\n",
       " e_Gmag float64       Column     0\n",
       " num_RV   int64       Column     0"
      ]
     },
     "execution_count": 76,
     "metadata": {},
     "output_type": "execute_result"
    }
   ],
   "source": [
    "rot.info"
   ]
  },
  {
   "cell_type": "code",
   "execution_count": 77,
   "id": "87fdac7f-bd7f-4305-a88a-f2710165d3ec",
   "metadata": {},
   "outputs": [
    {
     "data": {
      "text/plain": [
       "<Table length=434>\n",
       "name  dtype     class     n_bad\n",
       "---- ------- ------------ -----\n",
       "  id   int64       Column     0\n",
       "   P float64 MaskedColumn    44"
      ]
     },
     "execution_count": 77,
     "metadata": {},
     "output_type": "execute_result"
    }
   ],
   "source": [
    "rot_info = Table()\n",
    "rot_info['id'] = rot['Gaia']\n",
    "rot_info['P'] = rot['Per']\n",
    "rot_info.info"
   ]
  },
  {
   "cell_type": "code",
   "execution_count": 78,
   "id": "74f15b9e-c8b8-41dd-bd67-0ff26582d9b7",
   "metadata": {},
   "outputs": [],
   "source": [
    "all = vstack([rot_info, unimodal_table])"
   ]
  },
  {
   "cell_type": "code",
   "execution_count": 79,
   "id": "1a8c59ad-c49f-4782-b611-778ce17ffa20",
   "metadata": {},
   "outputs": [
    {
     "data": {
      "text/plain": [
       "<Table length=469>\n",
       "  name    dtype     class     n_bad\n",
       "-------- ------- ------------ -----\n",
       "      id   int64       Column     0\n",
       "       P float64 MaskedColumn    79\n",
       "    MCMC   int64 MaskedColumn   434\n",
       "P_median float64 MaskedColumn   434\n",
       " P_lower float64 MaskedColumn   434\n",
       " P_upper float64 MaskedColumn   434\n",
       "e_median float64 MaskedColumn   434\n",
       " e_lower float64 MaskedColumn   434\n",
       " e_upper float64 MaskedColumn   434"
      ]
     },
     "execution_count": 79,
     "metadata": {},
     "output_type": "execute_result"
    }
   ],
   "source": [
    "all.info"
   ]
  },
  {
   "cell_type": "code",
   "execution_count": null,
   "id": "558624d5-099c-4082-8376-6c6a4bc6c7d2",
   "metadata": {},
   "outputs": [],
   "source": []
  },
  {
   "cell_type": "code",
   "execution_count": null,
   "id": "4a8ba5ab-0940-4105-aa24-9a6b312a249c",
   "metadata": {},
   "outputs": [],
   "source": []
  },
  {
   "cell_type": "code",
   "execution_count": 80,
   "id": "faf0703c-cd48-400f-9044-1d0e7514202c",
   "metadata": {},
   "outputs": [],
   "source": [
    "all.write('uniplot_rot_data_200M.csv', format = 'csv', overwrite = True)"
   ]
  },
  {
   "cell_type": "code",
   "execution_count": 54,
   "id": "ec77cd04-5f63-4de1-92cb-d88a6df2e9ce",
   "metadata": {},
   "outputs": [
    {
     "data": {
      "text/plain": [
       "Text(0.5, 1.0, 'e vs P for Unimodal Stars in ngc6811 and ngc6866')"
      ]
     },
     "execution_count": 54,
     "metadata": {},
     "output_type": "execute_result"
    },
    {
     "data": {
      "image/png": "[encoded data removed]",
      "text/plain": [
       "<Figure size 640x480 with 1 Axes>"
      ]
     },
     "metadata": {},
     "output_type": "display_data"
    }
   ],
   "source": [
    "fig, ax = plt.subplots()\n",
    "x = np.array(all['P_median'])\n",
    "y = np.array(all['e_median'])\n",
    "asymmetric_error_x = np.array([np.array(all['P_lower']), np.array(all['P_upper'])])\n",
    "asymmetric_error_y = np.array([np.array(all['e_lower']), np.array(all['e_upper'])])\n",
    "#print(asymmetric_error_y)\n",
    "\n",
    "ax.errorbar(x, y, xerr = asymmetric_error_x, yerr = asymmetric_error_y, fmt = 'o')\n",
    "plt.scatter(x, y, c = all['P'], zorder = 1)\n",
    "plt.colorbar(scatter)\n",
    "ax.set_xlabel('P (d)')\n",
    "ax.set_xscale('log')\n",
    "ax.set_ylabel('e')\n",
    "ax.set_title('e vs P for Unimodal Stars in ngc6811 and ngc6866')"
   ]
  },
  {
   "cell_type": "code",
   "execution_count": null,
   "id": "6e4da084-0672-41a9-82d4-c357d5d9319e",
   "metadata": {},
   "outputs": [],
   "source": []
  },
  {
   "cell_type": "code",
   "execution_count": null,
   "id": "68f7736e-7a8c-4491-97d1-bf60b14fc34a",
   "metadata": {},
   "outputs": [],
   "source": []
  },
  {
   "cell_type": "code",
   "execution_count": null,
   "id": "00359a9f-c512-48fe-81bc-88514e9c3722",
   "metadata": {},
   "outputs": [],
   "source": []
  },
  {
   "cell_type": "code",
   "execution_count": null,
   "id": "1430e662-d5af-4ea9-8935-aff6740d8fba",
   "metadata": {},
   "outputs": [],
   "source": []
  }
 ],
 "metadata": {
  "kernelspec": {
   "display_name": "Python 3 (ipykernel)",
   "language": "python",
   "name": "python3"
  },
  "language_info": {
   "codemirror_mode": {
    "name": "ipython",
    "version": 3
   },
   "file_extension": ".py",
   "mimetype": "text/x-python",
   "name": "python",
   "nbconvert_exporter": "python",
   "pygments_lexer": "ipython3",
   "version": "3.11.8"
  }
 },
 "nbformat": 4,
 "nbformat_minor": 5
}
