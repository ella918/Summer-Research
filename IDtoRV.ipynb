{
 "cells": [
  {
   "cell_type": "code",
   "execution_count": 2,
   "id": "9d9db326-627e-4579-b633-e94256a802d7",
   "metadata": {},
   "outputs": [],
   "source": [
    "#NEW FILE USE THIS NOT THE OTHER ONE!"
   ]
  },
  {
   "cell_type": "code",
   "execution_count": 1,
   "id": "e5c7bb95-1d7c-41a0-9077-d3e47eccd939",
   "metadata": {},
   "outputs": [],
   "source": [
    "#imports\n",
    "import astropy.table as at\n",
    "import astropy.units as u\n",
    "import matplotlib.pyplot as plt\n",
    "import numpy as np\n",
    "import h5py\n",
    "import thejoker as tj\n",
    "from astropy.table import QTable, Table, Column, vstack, unique\n",
    "from astropy.time import Time\n",
    "from astropy.visualization.units import quantity_support\n",
    "\n",
    "import astropy.coordinates as coord\n",
    "import pymc as pm\n",
    "import arviz as az\n",
    "\n",
    "import argparse\n",
    "import os"
   ]
  },
  {
   "cell_type": "code",
   "execution_count": 2,
   "id": "6b4fc60b-3b6c-4307-a3e3-cf59c52a52e4",
   "metadata": {},
   "outputs": [],
   "source": [
    "#random generator to ensure reproducibility? - from the joker tutorial\n",
    "rnd = np.random.default_rng(seed=42)"
   ]
  },
  {
   "cell_type": "code",
   "execution_count": 3,
   "id": "cb3f80a2-1be5-4fcd-af6d-79497b6dbba4",
   "metadata": {},
   "outputs": [],
   "source": [
    "#import data\n",
    "data_6866 = QTable.read('/users/EllaMathews/Summer-Research/Combined_Data_6866.csv')\n",
    "data_6811 = QTable.read('/users/EllaMathews/Summer-Research/Combined_Data_6811.csv')\n",
    "new_data = h5py.File('/users/EllaMathews/Research/ngc6811_UTP_v1_new.h5', 'r')"
   ]
  },
  {
   "cell_type": "code",
   "execution_count": 4,
   "id": "f307f2c4-8760-45ae-b94f-90c65b5d8ee6",
   "metadata": {},
   "outputs": [
    {
     "name": "stderr",
     "output_type": "stream",
     "text": [
      "WARNING: VerifyWarning: It is strongly recommended that column names contain only upper and lower-case ASCII letters, digits, or underscores for maximum compatibility with other software (got '[Fe/H]'). [astropy.io.fits.column]\n",
      "WARNING: VerifyWarning: It is strongly recommended that column names contain only upper and lower-case ASCII letters, digits, or underscores for maximum compatibility with other software (got '[Fe/H]_err'). [astropy.io.fits.column]\n",
      "WARNING: VerifyWarning: It is strongly recommended that column names contain only upper and lower-case ASCII letters, digits, or underscores for maximum compatibility with other software (got '[Fe/H]_lerr'). [astropy.io.fits.column]\n",
      "WARNING: VerifyWarning: It is strongly recommended that column names contain only upper and lower-case ASCII letters, digits, or underscores for maximum compatibility with other software (got '[Fe/H]_uerr'). [astropy.io.fits.column]\n",
      "WARNING: VerifyWarning: It is strongly recommended that column names contain only upper and lower-case ASCII letters, digits, or underscores for maximum compatibility with other software (got '[a/Fe]'). [astropy.io.fits.column]\n",
      "WARNING: VerifyWarning: It is strongly recommended that column names contain only upper and lower-case ASCII letters, digits, or underscores for maximum compatibility with other software (got '[a/Fe]_err'). [astropy.io.fits.column]\n",
      "WARNING: VerifyWarning: It is strongly recommended that column names contain only upper and lower-case ASCII letters, digits, or underscores for maximum compatibility with other software (got '[a/Fe]_lerr'). [astropy.io.fits.column]\n",
      "WARNING: VerifyWarning: It is strongly recommended that column names contain only upper and lower-case ASCII letters, digits, or underscores for maximum compatibility with other software (got '[a/Fe]_uerr'). [astropy.io.fits.column]\n"
     ]
    }
   ],
   "source": [
    "#importing new data\n",
    "new_6866 = QTable.read('/users/EllaMathews/Research/rcat_ngc6866_v0.fits')\n",
    "new_6811 = QTable.read('/users/EllaMathews/Research/rcat_ngc6811_v0.fits')\n"
   ]
  },
  {
   "cell_type": "code",
   "execution_count": 5,
   "id": "a6160b4c-a054-472b-9ea2-fbd48c2cf20d",
   "metadata": {},
   "outputs": [],
   "source": [
    "#make list of ids to check over\n",
    "ids6866 = data_6866['id']\n",
    "ids6811 = data_6811['id']"
   ]
  },
  {
   "cell_type": "code",
   "execution_count": 8,
   "id": "f8219d9f-4275-449a-ac5e-e21ecb21012d",
   "metadata": {},
   "outputs": [],
   "source": [
    "#function that takes id and returns a RVData object \n",
    "def IDtoRVWithOld(id_num):\n",
    "    rvdatamatched6866 = data_6866[id_num == ids6866] #where function to get the rows where id matches input \n",
    "    rvdatamatched6811 = data_6811[id_num == ids6811] # repeat for both clusters\n",
    "    if len(rvdatamatched6866) == 0 and len(rvdatamatched6811) == 0: #if not in either cluster return nothing\n",
    "        return\n",
    "    if len(rvdatamatched6811) == 0: #if there is nothing from 6811 then use the data from 6866 to create RVData obj\n",
    "        matched = rvdatamatched6866\n",
    "    if len(rvdatamatched6866) == 0: #if there is nothing from 6866 then use the data from 6811 to create RVData obj\n",
    "        matched = rvdatamatched6811\n",
    "    t1 = Time(matched[\"hjd\"], format = \"jd\", scale = \"tcb\") #create time object\n",
    "\n",
    "    gname = matched['DR3Name'][0] #getting name of object\n",
    "    gnum = gname[9:] #getting just the numbers \n",
    "    new_rv =[] #empty arrays to put new data in \n",
    "    new_rv_err = []\n",
    "    new_date = []\n",
    "    new = Table() #empty table\n",
    "    is_group = False\n",
    "    if gnum in new_data:\n",
    "        is_group = isinstance(new_data[gnum], h5py.Group) #checking to see if there is new data (will be a group if there is for this id)\n",
    "    if is_group:\n",
    "        newstardata = new_data[gnum]['spec'] #looking in spec data\n",
    "        for time in newstardata.keys(): #iterate through dates for the given name \n",
    "           t = time[-19:] # make sure just numbers\n",
    "           new_rv.append(newstardata[t]['vrad'][0]) #add new rv data to the array\n",
    "           new_rv_err.append(newstardata[t]['vrad'][1]) #add new rv error data to the array\n",
    "           new_date.append(t) #add new dates\n",
    "    new['rv'] = new_rv #add column to table with name 'rv'\n",
    "    new['rve'] = new_rv_err #add column to table with name 'rve'\n",
    "    t2 = Time(new_date, format = 'isot') #create new time object with new dates\n",
    "    t_all = Time(np.append(t1, t2)) #merge time objects\n",
    "    all_data = vstack([matched, new]) #merge tables so all rv data is together \n",
    "    data = tj.RVData(t = t_all, rv = all_data[\"rv\"]*(u.kilometer/u.second), rv_err = all_data[\"rve\"]*(u.kilometer/u.second)) #create RVData obj\n",
    "    return data, len(all_data['rv']) #return the RVData obj and how many samples for the star"
   ]
  },
  {
   "cell_type": "code",
   "execution_count": 9,
   "id": "43aa7d5d-9713-41b5-bdb5-572521540a6a",
   "metadata": {},
   "outputs": [],
   "source": [
    "def RunTheJokerWithOld(id_num, num_priors):\n",
    "    data, num_samples = IDtoRVWithOld(id_num) #using other function to get joker object and number of samples \n",
    "\n",
    "    if os.path.exists(f'/users/EllaMathews/Research/{id_num}') == False:\n",
    "        os.makedirs(f'/users/EllaMathews/Research/{id_num}')\n",
    "        os.makedirs(f'/users/EllaMathews/Research/{id_num}/Plots')\n",
    "\n",
    "    fig1, ax1 = plt.subplots()\n",
    "    _ = data.plot() #plotting rv vs time\n",
    "    fig1.savefig(f\"/users/EllaMathews/Research/{id_num}/Plots/RVvsTime_{id_num}\") #saving figure to plots folder in research folder\n",
    "    \n",
    "    prior = tj.JokerPrior.default( #initializing the default prior\n",
    "        P_min = 2 * u.day,\n",
    "        P_max = 1e3 * u.day,\n",
    "        sigma_K0 = 30 * u.km / u.s,\n",
    "        sigma_v = 100 * u.km / u.s,\n",
    "    )\n",
    "\n",
    "    if os.path.exists(f\"/users/EllaMathews/Research/{id_num}/prior_samples_{id_num}.hdf5\"):\n",
    "        prior_samples = tj.JokerSamples.read(f\"/users/EllaMathews/Research/{id_num}/prior_samples_{id_num}.hdf5\")\n",
    "    else:\n",
    "        prior_samples = prior.sample(size = num_priors, rng = rnd) #generating prior samples\n",
    "        prior_samples.write(f\"/users/EllaMathews/Research/{id_num}/prior_samples_{id_num}.hdf5\", overwrite = True) #write out prior samples to research folder \n",
    "\n",
    "    joker = tj.TheJoker(prior, rng=rnd) #creating instance of The Joker\n",
    "    joker_samples = joker.rejection_sample(data, prior_samples, max_posterior_samples=256) #creating rejection samples \n",
    "    joker_samples.write(f\"/users/EllaMathews/Research/{id_num}/rejection_samples_{id_num}.hdf5\", overwrite = True) #writing out posterior samples (not MCMC)\n",
    "\n",
    "    fig2, ax2 = plt.subplots()\n",
    "    _ = tj.plot_rv_curves(joker_samples, data=data) #plotting RV curves from rejection sampler\n",
    "    fig2.savefig(f\"/users/EllaMathews/Research/{id_num}/Plots/RVCurves_{id_num}\") #saving figure to plots folder in research folder\n",
    "\n",
    "    #plotting period against eccentricity\n",
    "    fig3, ax3 = plt.subplots()\n",
    "    with quantity_support():\n",
    "        ax3.scatter(joker_samples[\"P\"], joker_samples[\"e\"], s=20, lw=0, alpha=0.5)\n",
    "    ax3.set_xscale(\"log\")\n",
    "    ax3.set_xlim(1, 1e3)\n",
    "    ax3.set_ylim(0, 1)\n",
    "    ax3.set_xlabel(\"$P$ [day]\")\n",
    "    ax3.set_ylabel(\"$e$\")\n",
    "    fig3.savefig(f\"/users/EllaMathews/Research/{id_num}/Plots/PeriodvsEccent_{id_num}\") #saving figure to plots folder in research folder \n",
    "\n",
    "    if len(joker_samples) == 1: #if only one sample need MCMC\n",
    "        #MCMC with NUTS sampler \n",
    "        with prior.model:\n",
    "            mcmc_init = joker.setup_mcmc(data, joker_samples)\n",
    "            trace = pm.sample(tune=500, draws=500, start=mcmc_init, cores=1, chains=2)\n",
    "        mcmc_samples = tj.JokerSamples.from_inference_data(prior, trace, data) #convert trace into jokersamples\n",
    "        mcmc_samples.write(f'/users/EllaMathews/Research/{id_num}/rejection_samples_MCMC_{id_num}.hdf5', overwrite = True) #write out MCMC posterior samples \n",
    "        \n",
    "        fig4, ax4 = plt.subplots()\n",
    "        _ = tj.plot_rv_curves(mcmc_samples, data=data) #plotting RV curves from MCMC rejection sampler\n",
    "        fig4.savefig(f\"/users/EllaMathews/Research/{id_num}/Plots/RVCurves_MCMC_{id_num}\") #saving figure to plots folder in research folder\n",
    "        \n",
    "        #plotting period vs eccentricity\n",
    "        fig5, ax5 = plt.subplots()\n",
    "        with quantity_support():\n",
    "            ax5.scatter(mcmc_samples[\"P\"], mcmc_samples[\"e\"], s=20, lw=0, alpha=0.5)\n",
    "        ax5.set_xscale(\"log\")\n",
    "        ax5.set_xlim(1, 1e3)\n",
    "        ax5.set_ylim(0, 1)\n",
    "        ax5.set_xlabel(\"$P$ [day]\")\n",
    "        ax5.set_ylabel(\"$e$\")\n",
    "        fig5.savefig(f\"/users/EllaMathews/Research/{id_num}/Plots/PeriodvsEccent_MCMC_{id_num}\") #saving figure to plots folder in research folder\n",
    "        \n",
    "        \n",
    "    return"
   ]
  },
  {
   "cell_type": "code",
   "execution_count": null,
   "id": "17443752-c6b8-4b7f-bc0a-6e9fac5ad285",
   "metadata": {},
   "outputs": [],
   "source": []
  },
  {
   "cell_type": "code",
   "execution_count": 10,
   "id": "0e4ab15e-fa6e-4078-91ed-4fe228152ff9",
   "metadata": {},
   "outputs": [],
   "source": [
    "def RunTheJoker(id_num, num_priors):\n",
    "    new_ids_6811 = new_6811['GAIAEDR3_ID']\n",
    "    new_ids_6866 = new_6866['GAIAEDR3_ID']\n",
    "\n",
    "    datamatched6811 = new_6811[id_num == new_ids_6811]\n",
    "    datamatched6866 = new_6866[id_num == new_ids_6866]\n",
    "\n",
    "    matched = vstack([datamatched6811, datamatched6866])\n",
    "    \n",
    "    if len(matched) == 0:\n",
    "        print(\"No RV data for this ID\")\n",
    "        return\n",
    "        \n",
    "    t1 = Time(matched[\"DATE-OBS\"], format = \"fits\", scale = \"tcb\")\n",
    "    data = tj.RVData(t = t1, rv = matched['vrad']*(u.kilometer/u.second), rv_err = matched['vrad_err']*(u.kilometer/u.second)) \n",
    "\n",
    "    if len(data) < 3:\n",
    "        print(\"Not enough RV data\")\n",
    "        return\n",
    "\n",
    "    #if os.path.exists(f'/users/EllaMathews/Research/{id_num}') == False:\n",
    "    #    os.makedirs(f'/users/EllaMathews/Research/{id_num}')\n",
    "    #    os.makedirs(f'/users/EllaMathews/Research/{id_num}/Plots')\n",
    "\n",
    "    fig1, ax1 = plt.subplots()\n",
    "    _ = data.plot() #plotting rv vs time\n",
    "   # fig1.savefig(f\"/users/EllaMathews/Research/{id_num}/Plots/RVvsTime_{id_num}\") #saving figure to plots folder in research folder\n",
    "    \n",
    "    prior = tj.JokerPrior.default( #initializing the default prior\n",
    "        P_min = 2 * u.day,\n",
    "        P_max = 1e3 * u.day,\n",
    "        sigma_K0 = 30 * u.km / u.s,\n",
    "        sigma_v = 100 * u.km / u.s,\n",
    "    )\n",
    "\n",
    "    if os.path.exists(f\"/users/EllaMathews/Research/{id_num}/prior_samples_{id_num}.hdf5\"):\n",
    "        prior_samples = tj.JokerSamples.read(f\"/users/EllaMathews/Research/{id_num}/prior_samples_{id_num}.hdf5\")\n",
    "    else:\n",
    "        prior_samples = prior.sample(size = num_priors, rng = rnd) #generating prior samples\n",
    "      #  prior_samples.write(f\"/users/EllaMathews/Research/{id_num}/prior_samples_{id_num}.hdf5\", overwrite = True) #write out prior samples to research folder \n",
    "\n",
    "    joker = tj.TheJoker(prior, rng=rnd) #creating instance of The Joker\n",
    "    joker_samples = joker.rejection_sample(data, prior_samples, max_posterior_samples=256) #creating rejection samples \n",
    "   # joker_samples.write(f\"/users/EllaMathews/Research/{id_num}/rejection_samples_{id_num}.hdf5\", overwrite = True) #writing out posterior samples (not MCMC)\n",
    "\n",
    "    fig2, ax2 = plt.subplots()\n",
    "    _ = tj.plot_rv_curves(joker_samples, data=data) #plotting RV curves from rejection sampler\n",
    "   # fig2.savefig(f\"/users/EllaMathews/Research/{id_num}/Plots/RVCurves_{id_num}\") #saving figure to plots folder in research folder\n",
    "\n",
    "    #plotting period against eccentricity\n",
    "    fig3, ax3 = plt.subplots()\n",
    "    with quantity_support():\n",
    "        ax3.scatter(joker_samples[\"P\"], joker_samples[\"e\"], s=20, lw=0, alpha=0.5)\n",
    "    ax3.set_xscale(\"log\")\n",
    "    ax3.set_xlim(1, 1e3)\n",
    "    ax3.set_ylim(0, 1)\n",
    "    ax3.set_xlabel(\"$P$ [day]\")\n",
    "    ax3.set_ylabel(\"$e$\")\n",
    "   # fig3.savefig(f\"/users/EllaMathews/Research/{id_num}/Plots/PeriodvsEccent_{id_num}\") #saving figure to plots folder in research folder \n",
    "\n",
    "    if len(joker_samples) == 1: #if only one sample need MCMC\n",
    "        #MCMC with NUTS sampler \n",
    "        with prior.model:\n",
    "            mcmc_init = joker.setup_mcmc(data, joker_samples)\n",
    "            trace = pm.sample(tune=500, draws=500, start=mcmc_init, cores=1, chains=2)\n",
    "        mcmc_samples = tj.JokerSamples.from_inference_data(prior, trace, data) #convert trace into jokersamples\n",
    "     #   mcmc_samples.write(f'/users/EllaMathews/Research/{id_num}/rejection_samples_MCMC_{id_num}.hdf5', overwrite = True) #write out MCMC posterior samples \n",
    "        \n",
    "        fig4, ax4 = plt.subplots()\n",
    "        _ = tj.plot_rv_curves(mcmc_samples, data=data) #plotting RV curves from MCMC rejection sampler\n",
    "     #   fig4.savefig(f\"/users/EllaMathews/Research/{id_num}/Plots/RVCurves_MCMC_{id_num}\") #saving figure to plots folder in research folder\n",
    "        \n",
    "        #plotting period vs eccentricity\n",
    "        fig5, ax5 = plt.subplots()\n",
    "        with quantity_support():\n",
    "            ax5.scatter(mcmc_samples[\"P\"], mcmc_samples[\"e\"], s=20, lw=0, alpha=0.5)\n",
    "        ax5.set_xscale(\"log\")\n",
    "        ax5.set_xlim(1, 1e3)\n",
    "        ax5.set_ylim(0, 1)\n",
    "        ax5.set_xlabel(\"$P$ [day]\")\n",
    "        ax5.set_ylabel(\"$e$\")\n",
    "    #    fig5.savefig(f\"/users/EllaMathews/Research/{id_num}/Plots/PeriodvsEccent_MCMC_{id_num}\") #saving figure to plots folder in research folder\n",
    "        \n",
    "    return"
   ]
  },
  {
   "cell_type": "code",
   "execution_count": null,
   "id": "da30f784-ddbf-4ad7-a411-155d329d35da",
   "metadata": {},
   "outputs": [],
   "source": []
  },
  {
   "cell_type": "code",
   "execution_count": 18,
   "id": "4db50621-5d91-4ba4-a27b-9ea91de56188",
   "metadata": {},
   "outputs": [
    {
     "data": {
      "text/plain": [
       "2128135404451469440"
      ]
     },
     "execution_count": 18,
     "metadata": {},
     "output_type": "execute_result"
    }
   ],
   "source": [
    "new_ids_6811 = new_6811['GAIAEDR3_ID']\n",
    "new_ids_6811[57]"
   ]
  },
  {
   "cell_type": "code",
   "execution_count": 30,
   "id": "6aaa9fb4-e10a-4455-bb72-bd84a599b019",
   "metadata": {},
   "outputs": [
    {
     "name": "stderr",
     "output_type": "stream",
     "text": [
      "usage: ipykernel_launcher.py [-h] [--prior PRIOR] id\n",
      "ipykernel_launcher.py: error: argument id: invalid int value: '/Users/EllaMathews/Library/Jupyter/runtime/kernel-21d63714-0341-4187-8234-ad5004931b0c.json'\n"
     ]
    },
    {
     "ename": "AttributeError",
     "evalue": "'tuple' object has no attribute 'tb_frame'",
     "output_type": "error",
     "traceback": [
      "\u001b[0;31m---------------------------------------------------------------------------\u001b[0m",
      "\u001b[0;31mValueError\u001b[0m                                Traceback (most recent call last)",
      "File \u001b[0;32m/opt/anaconda3/envs/thejoker/lib/python3.12/argparse.py:2565\u001b[0m, in \u001b[0;36mArgumentParser._get_value\u001b[0;34m(self, action, arg_string)\u001b[0m\n\u001b[1;32m   2564\u001b[0m \u001b[38;5;28;01mtry\u001b[39;00m:\n\u001b[0;32m-> 2565\u001b[0m     result \u001b[38;5;241m=\u001b[39m \u001b[43mtype_func\u001b[49m\u001b[43m(\u001b[49m\u001b[43marg_string\u001b[49m\u001b[43m)\u001b[49m\n\u001b[1;32m   2567\u001b[0m \u001b[38;5;66;03m# ArgumentTypeErrors indicate errors\u001b[39;00m\n",
      "\u001b[0;31mValueError\u001b[0m: invalid literal for int() with base 10: '/Users/EllaMathews/Library/Jupyter/runtime/kernel-21d63714-0341-4187-8234-ad5004931b0c.json'",
      "\nDuring handling of the above exception, another exception occurred:\n",
      "\u001b[0;31mArgumentError\u001b[0m                             Traceback (most recent call last)",
      "File \u001b[0;32m/opt/anaconda3/envs/thejoker/lib/python3.12/argparse.py:1929\u001b[0m, in \u001b[0;36mArgumentParser.parse_known_args\u001b[0;34m(self, args, namespace)\u001b[0m\n\u001b[1;32m   1928\u001b[0m \u001b[38;5;28;01mtry\u001b[39;00m:\n\u001b[0;32m-> 1929\u001b[0m     namespace, args \u001b[38;5;241m=\u001b[39m \u001b[38;5;28;43mself\u001b[39;49m\u001b[38;5;241;43m.\u001b[39;49m\u001b[43m_parse_known_args\u001b[49m\u001b[43m(\u001b[49m\u001b[43margs\u001b[49m\u001b[43m,\u001b[49m\u001b[43m \u001b[49m\u001b[43mnamespace\u001b[49m\u001b[43m)\u001b[49m\n\u001b[1;32m   1930\u001b[0m \u001b[38;5;28;01mexcept\u001b[39;00m ArgumentError \u001b[38;5;28;01mas\u001b[39;00m err:\n",
      "File \u001b[0;32m/opt/anaconda3/envs/thejoker/lib/python3.12/argparse.py:2153\u001b[0m, in \u001b[0;36mArgumentParser._parse_known_args\u001b[0;34m(self, arg_strings, namespace)\u001b[0m\n\u001b[1;32m   2152\u001b[0m \u001b[38;5;66;03m# consume any positionals following the last Optional\u001b[39;00m\n\u001b[0;32m-> 2153\u001b[0m stop_index \u001b[38;5;241m=\u001b[39m \u001b[43mconsume_positionals\u001b[49m\u001b[43m(\u001b[49m\u001b[43mstart_index\u001b[49m\u001b[43m)\u001b[49m\n\u001b[1;32m   2155\u001b[0m \u001b[38;5;66;03m# if we didn't consume all the argument strings, there were extras\u001b[39;00m\n",
      "File \u001b[0;32m/opt/anaconda3/envs/thejoker/lib/python3.12/argparse.py:2109\u001b[0m, in \u001b[0;36mArgumentParser._parse_known_args.<locals>.consume_positionals\u001b[0;34m(start_index)\u001b[0m\n\u001b[1;32m   2108\u001b[0m     start_index \u001b[38;5;241m+\u001b[39m\u001b[38;5;241m=\u001b[39m arg_count\n\u001b[0;32m-> 2109\u001b[0m     \u001b[43mtake_action\u001b[49m\u001b[43m(\u001b[49m\u001b[43maction\u001b[49m\u001b[43m,\u001b[49m\u001b[43m \u001b[49m\u001b[43margs\u001b[49m\u001b[43m)\u001b[49m\n\u001b[1;32m   2111\u001b[0m \u001b[38;5;66;03m# slice off the Positionals that we just parsed and return the\u001b[39;00m\n\u001b[1;32m   2112\u001b[0m \u001b[38;5;66;03m# index at which the Positionals' string args stopped\u001b[39;00m\n",
      "File \u001b[0;32m/opt/anaconda3/envs/thejoker/lib/python3.12/argparse.py:1989\u001b[0m, in \u001b[0;36mArgumentParser._parse_known_args.<locals>.take_action\u001b[0;34m(action, argument_strings, option_string)\u001b[0m\n\u001b[1;32m   1988\u001b[0m seen_actions\u001b[38;5;241m.\u001b[39madd(action)\n\u001b[0;32m-> 1989\u001b[0m argument_values \u001b[38;5;241m=\u001b[39m \u001b[38;5;28;43mself\u001b[39;49m\u001b[38;5;241;43m.\u001b[39;49m\u001b[43m_get_values\u001b[49m\u001b[43m(\u001b[49m\u001b[43maction\u001b[49m\u001b[43m,\u001b[49m\u001b[43m \u001b[49m\u001b[43margument_strings\u001b[49m\u001b[43m)\u001b[49m\n\u001b[1;32m   1991\u001b[0m \u001b[38;5;66;03m# error if this argument is not allowed with other previously\u001b[39;00m\n\u001b[1;32m   1992\u001b[0m \u001b[38;5;66;03m# seen arguments, assuming that actions that use the default\u001b[39;00m\n\u001b[1;32m   1993\u001b[0m \u001b[38;5;66;03m# value don't really count as \"present\"\u001b[39;00m\n",
      "File \u001b[0;32m/opt/anaconda3/envs/thejoker/lib/python3.12/argparse.py:2532\u001b[0m, in \u001b[0;36mArgumentParser._get_values\u001b[0;34m(self, action, arg_strings)\u001b[0m\n\u001b[1;32m   2531\u001b[0m arg_string, \u001b[38;5;241m=\u001b[39m arg_strings\n\u001b[0;32m-> 2532\u001b[0m value \u001b[38;5;241m=\u001b[39m \u001b[38;5;28;43mself\u001b[39;49m\u001b[38;5;241;43m.\u001b[39;49m\u001b[43m_get_value\u001b[49m\u001b[43m(\u001b[49m\u001b[43maction\u001b[49m\u001b[43m,\u001b[49m\u001b[43m \u001b[49m\u001b[43marg_string\u001b[49m\u001b[43m)\u001b[49m\n\u001b[1;32m   2533\u001b[0m \u001b[38;5;28mself\u001b[39m\u001b[38;5;241m.\u001b[39m_check_value(action, value)\n",
      "File \u001b[0;32m/opt/anaconda3/envs/thejoker/lib/python3.12/argparse.py:2577\u001b[0m, in \u001b[0;36mArgumentParser._get_value\u001b[0;34m(self, action, arg_string)\u001b[0m\n\u001b[1;32m   2576\u001b[0m     msg \u001b[38;5;241m=\u001b[39m _(\u001b[38;5;124m'\u001b[39m\u001b[38;5;124minvalid \u001b[39m\u001b[38;5;132;01m%(type)s\u001b[39;00m\u001b[38;5;124m value: \u001b[39m\u001b[38;5;132;01m%(value)r\u001b[39;00m\u001b[38;5;124m'\u001b[39m)\n\u001b[0;32m-> 2577\u001b[0m     \u001b[38;5;28;01mraise\u001b[39;00m ArgumentError(action, msg \u001b[38;5;241m%\u001b[39m args)\n\u001b[1;32m   2579\u001b[0m \u001b[38;5;66;03m# return the converted value\u001b[39;00m\n",
      "\u001b[0;31mArgumentError\u001b[0m: argument id: invalid int value: '/Users/EllaMathews/Library/Jupyter/runtime/kernel-21d63714-0341-4187-8234-ad5004931b0c.json'",
      "\nDuring handling of the above exception, another exception occurred:\n",
      "\u001b[0;31mSystemExit\u001b[0m                                Traceback (most recent call last)",
      "    \u001b[0;31m[... skipping hidden 1 frame]\u001b[0m\n",
      "Cell \u001b[0;32mIn[30], line 5\u001b[0m\n\u001b[1;32m      4\u001b[0m parser\u001b[38;5;241m.\u001b[39madd_argument(\u001b[38;5;124m'\u001b[39m\u001b[38;5;124m--prior\u001b[39m\u001b[38;5;124m'\u001b[39m, help \u001b[38;5;241m=\u001b[39m \u001b[38;5;124m'\u001b[39m\u001b[38;5;124mnum of prior samples, default 1000\u001b[39m\u001b[38;5;124m'\u001b[39m, \u001b[38;5;28mtype\u001b[39m \u001b[38;5;241m=\u001b[39m \u001b[38;5;28mint\u001b[39m, default \u001b[38;5;241m=\u001b[39m\u001b[38;5;241m1000\u001b[39m)\n\u001b[0;32m----> 5\u001b[0m args \u001b[38;5;241m=\u001b[39m \u001b[43mparser\u001b[49m\u001b[38;5;241;43m.\u001b[39;49m\u001b[43mparse_args\u001b[49m\u001b[43m(\u001b[49m\u001b[43m)\u001b[49m\n\u001b[1;32m      7\u001b[0m RunTheJoker(args\u001b[38;5;241m.\u001b[39mid, args\u001b[38;5;241m.\u001b[39mprior)\n",
      "File \u001b[0;32m/opt/anaconda3/envs/thejoker/lib/python3.12/argparse.py:1896\u001b[0m, in \u001b[0;36mArgumentParser.parse_args\u001b[0;34m(self, args, namespace)\u001b[0m\n\u001b[1;32m   1895\u001b[0m \u001b[38;5;28;01mdef\u001b[39;00m \u001b[38;5;21mparse_args\u001b[39m(\u001b[38;5;28mself\u001b[39m, args\u001b[38;5;241m=\u001b[39m\u001b[38;5;28;01mNone\u001b[39;00m, namespace\u001b[38;5;241m=\u001b[39m\u001b[38;5;28;01mNone\u001b[39;00m):\n\u001b[0;32m-> 1896\u001b[0m     args, argv \u001b[38;5;241m=\u001b[39m \u001b[38;5;28;43mself\u001b[39;49m\u001b[38;5;241;43m.\u001b[39;49m\u001b[43mparse_known_args\u001b[49m\u001b[43m(\u001b[49m\u001b[43margs\u001b[49m\u001b[43m,\u001b[49m\u001b[43m \u001b[49m\u001b[43mnamespace\u001b[49m\u001b[43m)\u001b[49m\n\u001b[1;32m   1897\u001b[0m     \u001b[38;5;28;01mif\u001b[39;00m argv:\n",
      "File \u001b[0;32m/opt/anaconda3/envs/thejoker/lib/python3.12/argparse.py:1931\u001b[0m, in \u001b[0;36mArgumentParser.parse_known_args\u001b[0;34m(self, args, namespace)\u001b[0m\n\u001b[1;32m   1930\u001b[0m     \u001b[38;5;28;01mexcept\u001b[39;00m ArgumentError \u001b[38;5;28;01mas\u001b[39;00m err:\n\u001b[0;32m-> 1931\u001b[0m         \u001b[38;5;28;43mself\u001b[39;49m\u001b[38;5;241;43m.\u001b[39;49m\u001b[43merror\u001b[49m\u001b[43m(\u001b[49m\u001b[38;5;28;43mstr\u001b[39;49m\u001b[43m(\u001b[49m\u001b[43merr\u001b[49m\u001b[43m)\u001b[49m\u001b[43m)\u001b[49m\n\u001b[1;32m   1932\u001b[0m \u001b[38;5;28;01melse\u001b[39;00m:\n",
      "File \u001b[0;32m/opt/anaconda3/envs/thejoker/lib/python3.12/argparse.py:2665\u001b[0m, in \u001b[0;36mArgumentParser.error\u001b[0;34m(self, message)\u001b[0m\n\u001b[1;32m   2664\u001b[0m args \u001b[38;5;241m=\u001b[39m {\u001b[38;5;124m'\u001b[39m\u001b[38;5;124mprog\u001b[39m\u001b[38;5;124m'\u001b[39m: \u001b[38;5;28mself\u001b[39m\u001b[38;5;241m.\u001b[39mprog, \u001b[38;5;124m'\u001b[39m\u001b[38;5;124mmessage\u001b[39m\u001b[38;5;124m'\u001b[39m: message}\n\u001b[0;32m-> 2665\u001b[0m \u001b[38;5;28;43mself\u001b[39;49m\u001b[38;5;241;43m.\u001b[39;49m\u001b[43mexit\u001b[49m\u001b[43m(\u001b[49m\u001b[38;5;241;43m2\u001b[39;49m\u001b[43m,\u001b[49m\u001b[43m \u001b[49m\u001b[43m_\u001b[49m\u001b[43m(\u001b[49m\u001b[38;5;124;43m'\u001b[39;49m\u001b[38;5;132;43;01m%(prog)s\u001b[39;49;00m\u001b[38;5;124;43m: error: \u001b[39;49m\u001b[38;5;132;43;01m%(message)s\u001b[39;49;00m\u001b[38;5;130;43;01m\\n\u001b[39;49;00m\u001b[38;5;124;43m'\u001b[39;49m\u001b[43m)\u001b[49m\u001b[43m \u001b[49m\u001b[38;5;241;43m%\u001b[39;49m\u001b[43m \u001b[49m\u001b[43margs\u001b[49m\u001b[43m)\u001b[49m\n",
      "File \u001b[0;32m/opt/anaconda3/envs/thejoker/lib/python3.12/argparse.py:2652\u001b[0m, in \u001b[0;36mArgumentParser.exit\u001b[0;34m(self, status, message)\u001b[0m\n\u001b[1;32m   2651\u001b[0m     \u001b[38;5;28mself\u001b[39m\u001b[38;5;241m.\u001b[39m_print_message(message, _sys\u001b[38;5;241m.\u001b[39mstderr)\n\u001b[0;32m-> 2652\u001b[0m \u001b[43m_sys\u001b[49m\u001b[38;5;241;43m.\u001b[39;49m\u001b[43mexit\u001b[49m\u001b[43m(\u001b[49m\u001b[43mstatus\u001b[49m\u001b[43m)\u001b[49m\n",
      "\u001b[0;31mSystemExit\u001b[0m: 2",
      "\nDuring handling of the above exception, another exception occurred:\n",
      "\u001b[0;31mAttributeError\u001b[0m                            Traceback (most recent call last)",
      "    \u001b[0;31m[... skipping hidden 1 frame]\u001b[0m\n",
      "File \u001b[0;32m/opt/anaconda3/envs/thejoker/lib/python3.12/site-packages/IPython/core/interactiveshell.py:2145\u001b[0m, in \u001b[0;36mInteractiveShell.showtraceback\u001b[0;34m(self, exc_tuple, filename, tb_offset, exception_only, running_compiled_code)\u001b[0m\n\u001b[1;32m   2142\u001b[0m \u001b[38;5;28;01mif\u001b[39;00m exception_only:\n\u001b[1;32m   2143\u001b[0m     stb \u001b[38;5;241m=\u001b[39m [\u001b[38;5;124m'\u001b[39m\u001b[38;5;124mAn exception has occurred, use \u001b[39m\u001b[38;5;124m%\u001b[39m\u001b[38;5;124mtb to see \u001b[39m\u001b[38;5;124m'\u001b[39m\n\u001b[1;32m   2144\u001b[0m            \u001b[38;5;124m'\u001b[39m\u001b[38;5;124mthe full traceback.\u001b[39m\u001b[38;5;130;01m\\n\u001b[39;00m\u001b[38;5;124m'\u001b[39m]\n\u001b[0;32m-> 2145\u001b[0m     stb\u001b[38;5;241m.\u001b[39mextend(\u001b[38;5;28;43mself\u001b[39;49m\u001b[38;5;241;43m.\u001b[39;49m\u001b[43mInteractiveTB\u001b[49m\u001b[38;5;241;43m.\u001b[39;49m\u001b[43mget_exception_only\u001b[49m\u001b[43m(\u001b[49m\u001b[43metype\u001b[49m\u001b[43m,\u001b[49m\n\u001b[1;32m   2146\u001b[0m \u001b[43m                                                     \u001b[49m\u001b[43mvalue\u001b[49m\u001b[43m)\u001b[49m)\n\u001b[1;32m   2147\u001b[0m \u001b[38;5;28;01melse\u001b[39;00m:\n\u001b[1;32m   2149\u001b[0m     \u001b[38;5;28;01mdef\u001b[39;00m \u001b[38;5;21mcontains_exceptiongroup\u001b[39m(val):\n",
      "File \u001b[0;32m/opt/anaconda3/envs/thejoker/lib/python3.12/site-packages/IPython/core/ultratb.py:710\u001b[0m, in \u001b[0;36mListTB.get_exception_only\u001b[0;34m(self, etype, value)\u001b[0m\n\u001b[1;32m    702\u001b[0m \u001b[38;5;28;01mdef\u001b[39;00m \u001b[38;5;21mget_exception_only\u001b[39m(\u001b[38;5;28mself\u001b[39m, etype, value):\n\u001b[1;32m    703\u001b[0m \u001b[38;5;250m    \u001b[39m\u001b[38;5;124;03m\"\"\"Only print the exception type and message, without a traceback.\u001b[39;00m\n\u001b[1;32m    704\u001b[0m \n\u001b[1;32m    705\u001b[0m \u001b[38;5;124;03m    Parameters\u001b[39;00m\n\u001b[0;32m   (...)\u001b[0m\n\u001b[1;32m    708\u001b[0m \u001b[38;5;124;03m    value : exception value\u001b[39;00m\n\u001b[1;32m    709\u001b[0m \u001b[38;5;124;03m    \"\"\"\u001b[39;00m\n\u001b[0;32m--> 710\u001b[0m     \u001b[38;5;28;01mreturn\u001b[39;00m \u001b[43mListTB\u001b[49m\u001b[38;5;241;43m.\u001b[39;49m\u001b[43mstructured_traceback\u001b[49m\u001b[43m(\u001b[49m\u001b[38;5;28;43mself\u001b[39;49m\u001b[43m,\u001b[49m\u001b[43m \u001b[49m\u001b[43metype\u001b[49m\u001b[43m,\u001b[49m\u001b[43m \u001b[49m\u001b[43mvalue\u001b[49m\u001b[43m)\u001b[49m\n",
      "File \u001b[0;32m/opt/anaconda3/envs/thejoker/lib/python3.12/site-packages/IPython/core/ultratb.py:568\u001b[0m, in \u001b[0;36mListTB.structured_traceback\u001b[0;34m(self, etype, evalue, etb, tb_offset, context)\u001b[0m\n\u001b[1;32m    565\u001b[0m     chained_exc_ids\u001b[38;5;241m.\u001b[39madd(\u001b[38;5;28mid\u001b[39m(exception[\u001b[38;5;241m1\u001b[39m]))\n\u001b[1;32m    566\u001b[0m     chained_exceptions_tb_offset \u001b[38;5;241m=\u001b[39m \u001b[38;5;241m0\u001b[39m\n\u001b[1;32m    567\u001b[0m     out_list \u001b[38;5;241m=\u001b[39m (\n\u001b[0;32m--> 568\u001b[0m         \u001b[38;5;28;43mself\u001b[39;49m\u001b[38;5;241;43m.\u001b[39;49m\u001b[43mstructured_traceback\u001b[49m\u001b[43m(\u001b[49m\n\u001b[1;32m    569\u001b[0m \u001b[43m            \u001b[49m\u001b[43metype\u001b[49m\u001b[43m,\u001b[49m\n\u001b[1;32m    570\u001b[0m \u001b[43m            \u001b[49m\u001b[43mevalue\u001b[49m\u001b[43m,\u001b[49m\n\u001b[1;32m    571\u001b[0m \u001b[43m            \u001b[49m\u001b[43m(\u001b[49m\u001b[43metb\u001b[49m\u001b[43m,\u001b[49m\u001b[43m \u001b[49m\u001b[43mchained_exc_ids\u001b[49m\u001b[43m)\u001b[49m\u001b[43m,\u001b[49m\u001b[43m  \u001b[49m\u001b[38;5;66;43;03m# type: ignore\u001b[39;49;00m\n\u001b[1;32m    572\u001b[0m \u001b[43m            \u001b[49m\u001b[43mchained_exceptions_tb_offset\u001b[49m\u001b[43m,\u001b[49m\n\u001b[1;32m    573\u001b[0m \u001b[43m            \u001b[49m\u001b[43mcontext\u001b[49m\u001b[43m,\u001b[49m\n\u001b[1;32m    574\u001b[0m \u001b[43m        \u001b[49m\u001b[43m)\u001b[49m\n\u001b[1;32m    575\u001b[0m         \u001b[38;5;241m+\u001b[39m chained_exception_message\n\u001b[1;32m    576\u001b[0m         \u001b[38;5;241m+\u001b[39m out_list)\n\u001b[1;32m    578\u001b[0m \u001b[38;5;28;01mreturn\u001b[39;00m out_list\n",
      "File \u001b[0;32m/opt/anaconda3/envs/thejoker/lib/python3.12/site-packages/IPython/core/ultratb.py:1454\u001b[0m, in \u001b[0;36mAutoFormattedTB.structured_traceback\u001b[0;34m(self, etype, evalue, etb, tb_offset, number_of_lines_of_context)\u001b[0m\n\u001b[1;32m   1452\u001b[0m \u001b[38;5;28;01melse\u001b[39;00m:\n\u001b[1;32m   1453\u001b[0m     \u001b[38;5;28mself\u001b[39m\u001b[38;5;241m.\u001b[39mtb \u001b[38;5;241m=\u001b[39m etb\n\u001b[0;32m-> 1454\u001b[0m \u001b[38;5;28;01mreturn\u001b[39;00m \u001b[43mFormattedTB\u001b[49m\u001b[38;5;241;43m.\u001b[39;49m\u001b[43mstructured_traceback\u001b[49m\u001b[43m(\u001b[49m\n\u001b[1;32m   1455\u001b[0m \u001b[43m    \u001b[49m\u001b[38;5;28;43mself\u001b[39;49m\u001b[43m,\u001b[49m\u001b[43m \u001b[49m\u001b[43metype\u001b[49m\u001b[43m,\u001b[49m\u001b[43m \u001b[49m\u001b[43mevalue\u001b[49m\u001b[43m,\u001b[49m\u001b[43m \u001b[49m\u001b[43metb\u001b[49m\u001b[43m,\u001b[49m\u001b[43m \u001b[49m\u001b[43mtb_offset\u001b[49m\u001b[43m,\u001b[49m\u001b[43m \u001b[49m\u001b[43mnumber_of_lines_of_context\u001b[49m\n\u001b[1;32m   1456\u001b[0m \u001b[43m\u001b[49m\u001b[43m)\u001b[49m\n",
      "File \u001b[0;32m/opt/anaconda3/envs/thejoker/lib/python3.12/site-packages/IPython/core/ultratb.py:1345\u001b[0m, in \u001b[0;36mFormattedTB.structured_traceback\u001b[0;34m(self, etype, value, tb, tb_offset, number_of_lines_of_context)\u001b[0m\n\u001b[1;32m   1342\u001b[0m mode \u001b[38;5;241m=\u001b[39m \u001b[38;5;28mself\u001b[39m\u001b[38;5;241m.\u001b[39mmode\n\u001b[1;32m   1343\u001b[0m \u001b[38;5;28;01mif\u001b[39;00m mode \u001b[38;5;129;01min\u001b[39;00m \u001b[38;5;28mself\u001b[39m\u001b[38;5;241m.\u001b[39mverbose_modes:\n\u001b[1;32m   1344\u001b[0m     \u001b[38;5;66;03m# Verbose modes need a full traceback\u001b[39;00m\n\u001b[0;32m-> 1345\u001b[0m     \u001b[38;5;28;01mreturn\u001b[39;00m \u001b[43mVerboseTB\u001b[49m\u001b[38;5;241;43m.\u001b[39;49m\u001b[43mstructured_traceback\u001b[49m\u001b[43m(\u001b[49m\n\u001b[1;32m   1346\u001b[0m \u001b[43m        \u001b[49m\u001b[38;5;28;43mself\u001b[39;49m\u001b[43m,\u001b[49m\u001b[43m \u001b[49m\u001b[43metype\u001b[49m\u001b[43m,\u001b[49m\u001b[43m \u001b[49m\u001b[43mvalue\u001b[49m\u001b[43m,\u001b[49m\u001b[43m \u001b[49m\u001b[43mtb\u001b[49m\u001b[43m,\u001b[49m\u001b[43m \u001b[49m\u001b[43mtb_offset\u001b[49m\u001b[43m,\u001b[49m\u001b[43m \u001b[49m\u001b[43mnumber_of_lines_of_context\u001b[49m\n\u001b[1;32m   1347\u001b[0m \u001b[43m    \u001b[49m\u001b[43m)\u001b[49m\n\u001b[1;32m   1348\u001b[0m \u001b[38;5;28;01melif\u001b[39;00m mode \u001b[38;5;241m==\u001b[39m \u001b[38;5;124m'\u001b[39m\u001b[38;5;124mMinimal\u001b[39m\u001b[38;5;124m'\u001b[39m:\n\u001b[1;32m   1349\u001b[0m     \u001b[38;5;28;01mreturn\u001b[39;00m ListTB\u001b[38;5;241m.\u001b[39mget_exception_only(\u001b[38;5;28mself\u001b[39m, etype, value)\n",
      "File \u001b[0;32m/opt/anaconda3/envs/thejoker/lib/python3.12/site-packages/IPython/core/ultratb.py:1192\u001b[0m, in \u001b[0;36mVerboseTB.structured_traceback\u001b[0;34m(self, etype, evalue, etb, tb_offset, number_of_lines_of_context)\u001b[0m\n\u001b[1;32m   1183\u001b[0m \u001b[38;5;28;01mdef\u001b[39;00m \u001b[38;5;21mstructured_traceback\u001b[39m(\n\u001b[1;32m   1184\u001b[0m     \u001b[38;5;28mself\u001b[39m,\n\u001b[1;32m   1185\u001b[0m     etype: \u001b[38;5;28mtype\u001b[39m,\n\u001b[0;32m   (...)\u001b[0m\n\u001b[1;32m   1189\u001b[0m     number_of_lines_of_context: \u001b[38;5;28mint\u001b[39m \u001b[38;5;241m=\u001b[39m \u001b[38;5;241m5\u001b[39m,\n\u001b[1;32m   1190\u001b[0m ):\n\u001b[1;32m   1191\u001b[0m \u001b[38;5;250m    \u001b[39m\u001b[38;5;124;03m\"\"\"Return a nice text document describing the traceback.\"\"\"\u001b[39;00m\n\u001b[0;32m-> 1192\u001b[0m     formatted_exception \u001b[38;5;241m=\u001b[39m \u001b[38;5;28;43mself\u001b[39;49m\u001b[38;5;241;43m.\u001b[39;49m\u001b[43mformat_exception_as_a_whole\u001b[49m\u001b[43m(\u001b[49m\u001b[43metype\u001b[49m\u001b[43m,\u001b[49m\u001b[43m \u001b[49m\u001b[43mevalue\u001b[49m\u001b[43m,\u001b[49m\u001b[43m \u001b[49m\u001b[43metb\u001b[49m\u001b[43m,\u001b[49m\u001b[43m \u001b[49m\u001b[43mnumber_of_lines_of_context\u001b[49m\u001b[43m,\u001b[49m\n\u001b[1;32m   1193\u001b[0m \u001b[43m                                                           \u001b[49m\u001b[43mtb_offset\u001b[49m\u001b[43m)\u001b[49m\n\u001b[1;32m   1195\u001b[0m     colors \u001b[38;5;241m=\u001b[39m \u001b[38;5;28mself\u001b[39m\u001b[38;5;241m.\u001b[39mColors  \u001b[38;5;66;03m# just a shorthand + quicker name lookup\u001b[39;00m\n\u001b[1;32m   1196\u001b[0m     colorsnormal \u001b[38;5;241m=\u001b[39m colors\u001b[38;5;241m.\u001b[39mNormal  \u001b[38;5;66;03m# used a lot\u001b[39;00m\n",
      "File \u001b[0;32m/opt/anaconda3/envs/thejoker/lib/python3.12/site-packages/IPython/core/ultratb.py:1082\u001b[0m, in \u001b[0;36mVerboseTB.format_exception_as_a_whole\u001b[0;34m(self, etype, evalue, etb, number_of_lines_of_context, tb_offset)\u001b[0m\n\u001b[1;32m   1079\u001b[0m \u001b[38;5;28;01massert\u001b[39;00m \u001b[38;5;28misinstance\u001b[39m(tb_offset, \u001b[38;5;28mint\u001b[39m)\n\u001b[1;32m   1080\u001b[0m head \u001b[38;5;241m=\u001b[39m \u001b[38;5;28mself\u001b[39m\u001b[38;5;241m.\u001b[39mprepare_header(\u001b[38;5;28mstr\u001b[39m(etype), \u001b[38;5;28mself\u001b[39m\u001b[38;5;241m.\u001b[39mlong_header)\n\u001b[1;32m   1081\u001b[0m records \u001b[38;5;241m=\u001b[39m (\n\u001b[0;32m-> 1082\u001b[0m     \u001b[38;5;28;43mself\u001b[39;49m\u001b[38;5;241;43m.\u001b[39;49m\u001b[43mget_records\u001b[49m\u001b[43m(\u001b[49m\u001b[43metb\u001b[49m\u001b[43m,\u001b[49m\u001b[43m \u001b[49m\u001b[43mnumber_of_lines_of_context\u001b[49m\u001b[43m,\u001b[49m\u001b[43m \u001b[49m\u001b[43mtb_offset\u001b[49m\u001b[43m)\u001b[49m \u001b[38;5;28;01mif\u001b[39;00m etb \u001b[38;5;28;01melse\u001b[39;00m []\n\u001b[1;32m   1083\u001b[0m )\n\u001b[1;32m   1085\u001b[0m frames \u001b[38;5;241m=\u001b[39m []\n\u001b[1;32m   1086\u001b[0m skipped \u001b[38;5;241m=\u001b[39m \u001b[38;5;241m0\u001b[39m\n",
      "File \u001b[0;32m/opt/anaconda3/envs/thejoker/lib/python3.12/site-packages/IPython/core/ultratb.py:1150\u001b[0m, in \u001b[0;36mVerboseTB.get_records\u001b[0;34m(self, etb, number_of_lines_of_context, tb_offset)\u001b[0m\n\u001b[1;32m   1148\u001b[0m \u001b[38;5;28;01mwhile\u001b[39;00m cf \u001b[38;5;129;01mis\u001b[39;00m \u001b[38;5;129;01mnot\u001b[39;00m \u001b[38;5;28;01mNone\u001b[39;00m:\n\u001b[1;32m   1149\u001b[0m     \u001b[38;5;28;01mtry\u001b[39;00m:\n\u001b[0;32m-> 1150\u001b[0m         mod \u001b[38;5;241m=\u001b[39m inspect\u001b[38;5;241m.\u001b[39mgetmodule(\u001b[43mcf\u001b[49m\u001b[38;5;241;43m.\u001b[39;49m\u001b[43mtb_frame\u001b[49m)\n\u001b[1;32m   1151\u001b[0m         \u001b[38;5;28;01mif\u001b[39;00m mod \u001b[38;5;129;01mis\u001b[39;00m \u001b[38;5;129;01mnot\u001b[39;00m \u001b[38;5;28;01mNone\u001b[39;00m:\n\u001b[1;32m   1152\u001b[0m             mod_name \u001b[38;5;241m=\u001b[39m mod\u001b[38;5;241m.\u001b[39m\u001b[38;5;18m__name__\u001b[39m\n",
      "\u001b[0;31mAttributeError\u001b[0m: 'tuple' object has no attribute 'tb_frame'"
     ]
    }
   ],
   "source": [
    "if __name__ == \"__main__\":\n",
    "    parser = argparse.ArgumentParser()\n",
    "    parser.add_argument('id', help = 'star id', type = int)\n",
    "    parser.add_argument('--prior', help = 'num of prior samples, default 1000', type = int, default =1000)\n",
    "    args = parser.parse_args()\n",
    "    \n",
    "    RunTheJoker(args.id, args.prior)"
   ]
  },
  {
   "cell_type": "code",
   "execution_count": 48,
   "id": "0de922b3-3a6a-46f0-a874-1de4e450b5b4",
   "metadata": {},
   "outputs": [],
   "source": [
    "id_num = 2128170180806442880"
   ]
  },
  {
   "cell_type": "code",
   "execution_count": null,
   "id": "2b1ccee4-b827-4e7e-8726-1b62d1e2df7c",
   "metadata": {},
   "outputs": [],
   "source": [
    "new_ids_6811 = new_6811['GAIAEDR3_ID']\n",
    "new_ids_6866 = new_6866['GAIAEDR3_ID']\n",
    "\n",
    "datamatched6811 = new_6811[id_num == new_ids_6811]\n",
    "datamatched6866 = new_6866[id_num == new_ids_6866]\n",
    "\n",
    "matched = vstack([datamatched6811, datamatched6866])"
   ]
  },
  {
   "cell_type": "code",
   "execution_count": 47,
   "id": "6d81276c-982b-422c-884b-7a11680e2d93",
   "metadata": {},
   "outputs": [
    {
     "name": "stdout",
     "output_type": "stream",
     "text": [
      "    GAIAEDR3_ID     vrad\n",
      "------------------- ----\n",
      "2128158154896484480   --\n",
      "2128158154896484480   --\n",
      "2128158154896484480   --\n",
      "2128158154896484480   --\n"
     ]
    }
   ],
   "source": [
    "print(matched['GAIAEDR3_ID','vrad'])"
   ]
  },
  {
   "cell_type": "code",
   "execution_count": null,
   "id": "dac07b63-f4aa-4225-bf4c-f023ba5ef2c1",
   "metadata": {},
   "outputs": [],
   "source": []
  }
 ],
 "metadata": {
  "kernelspec": {
   "display_name": "Python 3 (ipykernel)",
   "language": "python",
   "name": "python3"
  },
  "language_info": {
   "codemirror_mode": {
    "name": "ipython",
    "version": 3
   },
   "file_extension": ".py",
   "mimetype": "text/x-python",
   "name": "python",
   "nbconvert_exporter": "python",
   "pygments_lexer": "ipython3",
   "version": "3.12.3"
  }
 },
 "nbformat": 4,
 "nbformat_minor": 5
}
